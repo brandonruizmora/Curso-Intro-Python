{
 "cells": [
  {
   "cell_type": "markdown",
   "metadata": {},
   "source": [
    "# Ejercicio1: Crear y usar listas de Python"
   ]
  },
  {
   "cell_type": "code",
   "execution_count": 34,
   "metadata": {},
   "outputs": [
    {
     "name": "stdout",
     "output_type": "stream",
     "text": [
      "Lista de planetas 8 ['Mercurio', 'Venus', 'Tierra', 'Marte', 'Júpiter', 'Saturno', 'Urano', 'Neptuno']\n",
      "Ultimo planeta Plutón\n"
     ]
    }
   ],
   "source": [
    "# Creamos la lista planets y la mostramos\n",
    "planets = ['Mercurio', 'Venus', 'Tierra', 'Marte', 'Júpiter', 'Saturno', 'Urano', 'Neptuno']\n",
    "print('Lista de planetas', len(planets), planets)\n",
    "\n",
    "# Agregamos a plutón y mostramos el último elemento\n",
    "planets.append('Plutón')\n",
    "print('Ultimo planeta', planets[-1])"
   ]
  },
  {
   "cell_type": "markdown",
   "metadata": {},
   "source": [
    "# Ejercicio 2: Trabajando con datos de una lista"
   ]
  },
  {
   "cell_type": "code",
   "execution_count": 35,
   "metadata": {},
   "outputs": [
    {
     "name": "stdout",
     "output_type": "stream",
     "text": [
      "Planetas mas cercanos al sol que Earth: ['Mercury', 'Venus']\n",
      "Planetas mas lejanos al sol que Earth: ['Mars', 'Jupiter', 'Saturn', 'Neptune']\n"
     ]
    }
   ],
   "source": [
    "# Lista de planetas\n",
    "planets = ['Mercury', 'Venus', 'Earth', 'Mars', 'Jupiter', 'Saturn', 'Neptune']\n",
    "\n",
    "# Solicitamos el nombre de un planeta *Pista:  input()*\n",
    "planeta_solicitado = input('Ingresa el nombre de un planeta con mayuscula la primera letra')\n",
    "\n",
    "# Busca el planeta en la lista\n",
    "index = planets.index(planeta_solicitado)\n",
    "\n",
    "# Busca el planeta en la lista\n",
    "planets[index]\n",
    "\n",
    "# Muestra los planetas más cercanos al sol\n",
    "if index <= 0:\n",
    "    print(f\"Planetas mas cercanos al sol que {planets[index]}: Ninguno\")\n",
    "else:\n",
    "    print(f\"Planetas mas cercanos al sol que {planets[index]}: {planets[0 : index]}\")\n",
    "\n",
    "# Muestra los planetas más lejanos al sol\n",
    "print(f\"Planetas mas lejanos al sol que {planets[index]}: {planets[index + 1 : ]}\")"
   ]
  }
 ],
 "metadata": {
  "interpreter": {
   "hash": "dc4707da55bc1082fe64dc3f39b4726d0f2fec7a194e78aad5f3a877a8fd1310"
  },
  "kernelspec": {
   "display_name": "Python 3.10.2 64-bit",
   "language": "python",
   "name": "python3"
  },
  "language_info": {
   "codemirror_mode": {
    "name": "ipython",
    "version": 3
   },
   "file_extension": ".py",
   "mimetype": "text/x-python",
   "name": "python",
   "nbconvert_exporter": "python",
   "pygments_lexer": "ipython3",
   "version": "3.10.2"
  },
  "orig_nbformat": 4
 },
 "nbformat": 4,
 "nbformat_minor": 2
}
