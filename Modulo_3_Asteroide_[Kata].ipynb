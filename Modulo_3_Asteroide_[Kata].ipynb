{
 "cells": [
  {
   "cell_type": "markdown",
   "metadata": {},
   "source": [
    "# Ejercicio - Escribir declaraciones if, else, y elif"
   ]
  },
  {
   "cell_type": "code",
   "execution_count": 8,
   "metadata": {},
   "outputs": [
    {
     "name": "stdout",
     "output_type": "stream",
     "text": [
      "Adverterncia, se acerca un asteroide a la tierra a 49km/h\n"
     ]
    }
   ],
   "source": [
    "velocidadAsteroide = 49\n",
    "if velocidadAsteroide >= 25:\n",
    "    print('Adverterncia, se acerca un asteroide a la tierra a ' + str(velocidadAsteroide) + 'km/h')\n",
    "else: \n",
    "    print('Todo Cool')"
   ]
  },
  {
   "cell_type": "code",
   "execution_count": 11,
   "metadata": {},
   "outputs": [
    {
     "name": "stdout",
     "output_type": "stream",
     "text": [
      "No pasa nada :(\n"
     ]
    }
   ],
   "source": [
    "velocidadAsteroide = 19\n",
    "if velocidadAsteroide > 20:\n",
    "    print('Un asteroide acaba de ingresar a la atmosfera de la tierra, mira el cielo.')\n",
    "elif velocidadAsteroide == 20: \n",
    "    print('Un asteroide acaba de ingresar a la atmosfera de la tierra, mira el cielo.')\n",
    "else:\n",
    "    print('No pasa nada :(')"
   ]
  },
  {
   "cell_type": "markdown",
   "metadata": {},
   "source": [
    "# Ejercicio: Uso de operadores and y or"
   ]
  },
  {
   "cell_type": "code",
   "execution_count": 34,
   "metadata": {},
   "outputs": [
    {
     "name": "stdout",
     "output_type": "stream",
     "text": [
      "Un asteroide acaba de ingresar a la atmosfera de la tierra, mira el cielo.\n"
     ]
    }
   ],
   "source": [
    "tamanoAsteroide = 1\n",
    "velocidadAsteroide = 20\n",
    "if tamanoAsteroide > 25 and tamanoAsteroide < 1000 and velocidadAsteroide >= 20:\n",
    "    print('Un asteroide viene hacia la Tierra!')\n",
    "elif tamanoAsteroide >= 1000 and velocidadAsteroide >= 20:\n",
    "    print('¡¡¡¡¡Algo muy grande se acerca a la tierra!!!!!')\n",
    "elif tamanoAsteroide >= 1 and velocidadAsteroide >= 20:\n",
    "    print('Un asteroide acaba de ingresar a la atmosfera de la tierra, mira el cielo.')\n",
    "else:\n",
    "    print('Todo Cool')"
   ]
  }
 ],
 "metadata": {
  "interpreter": {
   "hash": "dc4707da55bc1082fe64dc3f39b4726d0f2fec7a194e78aad5f3a877a8fd1310"
  },
  "kernelspec": {
   "display_name": "Python 3.10.2 64-bit",
   "language": "python",
   "name": "python3"
  },
  "language_info": {
   "codemirror_mode": {
    "name": "ipython",
    "version": 3
   },
   "file_extension": ".py",
   "mimetype": "text/x-python",
   "name": "python",
   "nbconvert_exporter": "python",
   "pygments_lexer": "ipython3",
   "version": "3.10.2"
  },
  "orig_nbformat": 4
 },
 "nbformat": 4,
 "nbformat_minor": 2
}
