{
 "cells": [
  {
   "cell_type": "markdown",
   "metadata": {},
   "source": [
    "# Ejercicio1 - Utilizar operadores aritméticos"
   ]
  },
  {
   "cell_type": "code",
   "execution_count": 12,
   "metadata": {},
   "outputs": [
    {
     "name": "stdout",
     "output_type": "stream",
     "text": [
      "distancia en kilometros: 628949330\n",
      "distancia en millas: 390810874.13143003\n"
     ]
    }
   ],
   "source": [
    "Tierra = 149597870\n",
    "Jupiter = 778547200\n",
    "distanciaKm = abs((Tierra - Jupiter))\n",
    "distanciaMillas = distanciaKm * 0.621371\n",
    "print(f\"distancia en kilometros: {abs(distanciaKm)}\\ndistancia en millas: {distanciaMillas}\")"
   ]
  },
  {
   "cell_type": "markdown",
   "metadata": {},
   "source": [
    "# Ejercicio 2: convierte cadenas en números y usa valores absolutos"
   ]
  },
  {
   "cell_type": "code",
   "execution_count": 16,
   "metadata": {},
   "outputs": [
    {
     "name": "stdout",
     "output_type": "stream",
     "text": [
      "distancia en kilometros: 50300000\n",
      "distancia en millas: 31254961.3\n"
     ]
    }
   ],
   "source": [
    "# Almacenar las entradas del usuario\n",
    "planeta_uno = int(input(\"Ingresa la distancia entre el planeta y el sol:\"))\n",
    "planeta_dos = int(input(\"Ingresa la distancia entre el planeta y el sol:\"))\n",
    "\n",
    "# Realizar el cálculo y determinar el valor absoluto\n",
    "distancia_km = abs(planeta_uno - planeta_dos)\n",
    "\n",
    "# Convertir de KM a Millas\n",
    "distancia_mi = distancia_km * 0.621371\n",
    "\n",
    "print(f\"distancia en kilometros: {abs(distancia_km)}\\ndistancia en millas: {distancia_mi}\")"
   ]
  }
 ],
 "metadata": {
  "interpreter": {
   "hash": "dc4707da55bc1082fe64dc3f39b4726d0f2fec7a194e78aad5f3a877a8fd1310"
  },
  "kernelspec": {
   "display_name": "Python 3.10.2 64-bit",
   "language": "python",
   "name": "python3"
  },
  "language_info": {
   "codemirror_mode": {
    "name": "ipython",
    "version": 3
   },
   "file_extension": ".py",
   "mimetype": "text/x-python",
   "name": "python",
   "nbconvert_exporter": "python",
   "pygments_lexer": "ipython3",
   "version": "3.10.2"
  },
  "orig_nbformat": 4
 },
 "nbformat": 4,
 "nbformat_minor": 2
}
