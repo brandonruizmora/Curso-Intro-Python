{
 "cells": [
  {
   "cell_type": "markdown",
   "metadata": {},
   "source": [
    "Ejercicio 1: Trabajar con argumentos en funciones"
   ]
  },
  {
   "cell_type": "code",
   "execution_count": 6,
   "metadata": {},
   "outputs": [
    {
     "name": "stdout",
     "output_type": "stream",
     "text": [
      "tanque 1: 100, tanque 2: 50, tanque3: 150, promedio: 100.0\n",
      "Reporte de combustible:\n",
      "    Promedio de combustible: 100.0\n",
      "    tanque 1: 100\n",
      "    tanque 2: 50\n",
      "    tanque 3: 150\n",
      "    \n"
     ]
    }
   ],
   "source": [
    "# Función para leer 3 tanques de combustible y muestre el promedio\n",
    "def reporte_combustible(tanque1, tanque2, tanque3):\n",
    "    promedio = ( tanque1 + tanque2 + tanque3 ) / 3\n",
    "    return f'tanque 1: {tanque1}, tanque 2: {tanque2}, tanque3: {tanque3}, promedio: {promedio}'\n",
    "\n",
    "# Llamamos a la función que genera el reporte print(funcion(tanque1, tanque2, tanque3))\n",
    "print(reporte_combustible(100, 50, 150))\n",
    "\n",
    "# Función promedio\n",
    "def promedio(valores):\n",
    "    total = sum(valores)\n",
    "    numero_valores = len(valores)\n",
    "    resultado = total / numero_valores\n",
    "    return resultado\n",
    "\n",
    "# Actualiza la función\n",
    "def reporte_combustible2(tanque1, tanque2, tanque3):\n",
    "    tanques = [tanque1, tanque2, tanque3]\n",
    "    promedio_val = promedio(tanques)\n",
    "    return f\"\"\"Reporte de combustible:\n",
    "    Promedio de combustible: {promedio_val}\n",
    "    tanque 1: {tanque1}\n",
    "    tanque 2: {tanque2}\n",
    "    tanque 3: {tanque3}\n",
    "    \"\"\"\n",
    "\n",
    "print(reporte_combustible2(100, 50, 150))"
   ]
  },
  {
   "cell_type": "markdown",
   "metadata": {},
   "source": [
    "Ejercicio 2: Trabajo con argumentos de palabra clave"
   ]
  },
  {
   "cell_type": "code",
   "execution_count": 26,
   "metadata": {},
   "outputs": [
    {
     "name": "stdout",
     "output_type": "stream",
     "text": [
      "\n",
      "    Viaje a Marte\n",
      "    Tiempo total del viaje: 201 horas\n",
      "    Total de combustible: 301000000\n",
      "    \n",
      "\n",
      "    Viaje a La luna\n",
      "    Tiempo total del viaje: 2000000 minutos\n",
      "    Total de combustible: 300\n",
      "    \n",
      "\n",
      "    Viaje a La luna\n",
      "    Tiempo total del viaje: 2000000 minutos\n",
      "    Total de combustible: 300\n",
      "    combustible por tanque:\n",
      "    El tanque1 tiene 100 litros de combustible. El tanque2 tiene 50 litros de combustible. El tanque3 tiene 150 litros de combustible. \n",
      "    \n"
     ]
    }
   ],
   "source": [
    "# Función con un informe preciso de la misión. Considera hora de prelanzamiento, tiempo de vuelo, destino, tanque externo y tanque interno\n",
    "def reporte_de_mision(pre_lanzamiento, tiempo_vuelo, destino, tanque_externo, tanque_interno):\n",
    "    return f\"\"\"\n",
    "    Viaje a {destino}\n",
    "    Tiempo total del viaje: {pre_lanzamiento + tiempo_vuelo} horas\n",
    "    Total de combustible: {tanque_externo + tanque_interno}\n",
    "    \"\"\"\n",
    "\n",
    "print(reporte_de_mision(1, 200, \"Marte\", 1000000, 300000000))\n",
    "\n",
    "# Escribe tu nueva función de reporte considerando lo anterior\n",
    "def reporte_de_mision2(destino, *minutes, **fuel_reservoirs):\n",
    "    return f\"\"\"\n",
    "    Viaje a {destino}\n",
    "    Tiempo total del viaje: {sum(minutes)} minutos\n",
    "    Total de combustible: {sum(fuel_reservoirs.values())}\n",
    "    \"\"\"\n",
    "\n",
    "print(reporte_de_mision2(\"La luna\", 2000000, tanque1 = 100, tanque2 = 50, tanque3 = 150))\n",
    "\n",
    "# Escribe tu nueva función\n",
    "def reporte_de_mision3(destino, *minutes, **fuel_reservoirs):\n",
    "    tanques = \"\"\n",
    "    for tanque, combustible in fuel_reservoirs.items():\n",
    "        tanques = tanques + f\"El {tanque} tiene {combustible} litros de combustible. \"\n",
    "        \n",
    "    return f\"\"\"\n",
    "    Viaje a {destino}\n",
    "    Tiempo total del viaje: {sum(minutes)} minutos\n",
    "    Total de combustible: {sum(fuel_reservoirs.values())}\n",
    "    combustible por tanque:\n",
    "    { tanques }\n",
    "    \"\"\"\n",
    "\n",
    "print(reporte_de_mision3(\"La luna\", 2000000, tanque1 = 100, tanque2 = 50, tanque3 = 150))"
   ]
  }
 ],
 "metadata": {
  "interpreter": {
   "hash": "dc4707da55bc1082fe64dc3f39b4726d0f2fec7a194e78aad5f3a877a8fd1310"
  },
  "kernelspec": {
   "display_name": "Python 3.10.2 64-bit",
   "language": "python",
   "name": "python3"
  },
  "language_info": {
   "codemirror_mode": {
    "name": "ipython",
    "version": 3
   },
   "file_extension": ".py",
   "mimetype": "text/x-python",
   "name": "python",
   "nbconvert_exporter": "python",
   "pygments_lexer": "ipython3",
   "version": "3.10.2"
  },
  "orig_nbformat": 4
 },
 "nbformat": 4,
 "nbformat_minor": 2
}
